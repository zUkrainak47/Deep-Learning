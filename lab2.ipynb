{
 "cells": [
  {
   "cell_type": "code",
   "execution_count": 1,
   "id": "800d5e9a-462e-4ca9-9cc3-d8d933eaf81d",
   "metadata": {},
   "outputs": [],
   "source": [
    "import numpy as np\n",
    "import operator"
   ]
  },
  {
   "cell_type": "code",
   "execution_count": 2,
   "id": "b9fc428f-ea83-4bd5-8bbe-73b54446d08c",
   "metadata": {},
   "outputs": [],
   "source": [
    "def topo_sort_v1(a):\n",
    "    done = []\n",
    "    def visit(val):\n",
    "        if val.children:\n",
    "            for i in val.children:\n",
    "                visit(i)\n",
    "        if val not in done:\n",
    "            done.append(val)\n",
    "        return done[::-1]\n",
    "    return visit(a)"
   ]
  },
  {
   "cell_type": "code",
   "execution_count": 3,
   "id": "28b93b9d-a29e-40aa-a11d-cc6b0b645f32",
   "metadata": {},
   "outputs": [],
   "source": [
    "def topo_sort_v2(a):\n",
    "    done = []\n",
    "    def visit(val):\n",
    "        if val not in done:\n",
    "            if val.children:\n",
    "                for i in val.children:\n",
    "                    visit(i)\n",
    "            done.append(val)\n",
    "        return done[::-1]\n",
    "    return visit(a)"
   ]
  },
  {
   "cell_type": "code",
   "execution_count": 4,
   "id": "374ba612-9d2e-4fb9-9577-d9ba47de3086",
   "metadata": {},
   "outputs": [],
   "source": [
    "class Value:\n",
    "    def __init__(self, value, label='', children=(), op='', name=''):\n",
    "        self.value = value\n",
    "        self.label = label\n",
    "        self.grad = 0.0\n",
    "        self.children = set(children)\n",
    "        self.op = op\n",
    "        self._backward = lambda x=None: None\n",
    "        self._forward = lambda x=None: None\n",
    "        self.name = name\n",
    "        self.isconstant = False\n",
    "        # print(f\"{f'\"{self.name}\" = ' if self.name else f'{self.label} = '}{self.value:.4f}\")\n",
    "\n",
    "    def __repr__(self):\n",
    "        return f\"{f'\"{self.name}\" = ' if self.name else ''}{f'{self.label} = ' if not self.isconstant else ''}{round(self.value, 4)}, grad = {round(self.grad, 4)}\"\n",
    "\n",
    "    \n",
    "    # UNARY OPERATORS\n",
    "    def __pos__(self):\n",
    "        return self\n",
    "\n",
    "    def __neg__(self):\n",
    "        return (-1) * self\n",
    "\n",
    "    \n",
    "    # ADDITION\n",
    "    def __add__(self, other):\n",
    "        if isinstance(other, int) or isinstance(other, float):\n",
    "            other = Value(other, f'{other}', name=f'const {other}')\n",
    "            other.isconstant = True\n",
    "            \n",
    "        res = Value(self.value + other.value, label=f'[{self.label} + {other.label}]', children=(self, other), op='+')\n",
    "        def _backward(do_print=True):\n",
    "            self.grad += res.grad\n",
    "            other.grad += res.grad\n",
    "            if do_print:\n",
    "                print(self)\n",
    "                print(other)\n",
    "            \n",
    "        def _forward():\n",
    "            res.value = self.value + other.value\n",
    "\n",
    "        res._forward = _forward\n",
    "        res._backward = _backward\n",
    "        return res\n",
    "\n",
    "    def __radd__(self, other):\n",
    "        return self + other\n",
    "\n",
    "    \n",
    "    # SUBTRACTION\n",
    "    def __sub__(self, other):\n",
    "        if isinstance(other, int) or isinstance(other, float):\n",
    "            other = Value(other, f'{other}', name=f'const {other}')\n",
    "            other.isconstant = True\n",
    "\n",
    "        res = self + -other\n",
    "        res.label = f'[{self.label} - {other.label}]'\n",
    "        res.op = '-'\n",
    "        return res\n",
    "\n",
    "    def __rsub__(self, other):\n",
    "        other = Value(other, f'{other}', name=f'const {other}')\n",
    "        other.isconstant = True\n",
    "\n",
    "        res = -self + other\n",
    "        res.label = f'[{other.value} - {self.label}]'\n",
    "        return res\n",
    "\n",
    "    \n",
    "    # MULTIPLICATION\n",
    "    def __mul__(self, other):\n",
    "        if isinstance(other, int) or isinstance(other, float):\n",
    "            other = Value(other, f'{other}', name=f'const {other}')\n",
    "            other.isconstant = True\n",
    "            \n",
    "        res = Value(self.value * other.value, label=f'({self.label} * {other.label})', children=(self, other), op='*')\n",
    "        def _backward(do_print=True):\n",
    "            self.grad += other.value * res.grad\n",
    "            other.grad += self.value * res.grad\n",
    "            if do_print:\n",
    "                print(self)\n",
    "                print(other)\n",
    "\n",
    "        def _forward():\n",
    "            res.value = self.value * other.value\n",
    "            \n",
    "        res._forward = _forward\n",
    "        res._backward = _backward\n",
    "        return res\n",
    "\n",
    "    def __rmul__(self, other):\n",
    "        return self * other\n",
    "        \n",
    "\n",
    "    # EXPONENTIAL OPERATOR\n",
    "    def do_power(self, y):\n",
    "        result = Value(self.value ** y.value, label=f'{self.label} ^ {y.label}', children=(self, y), op='^')\n",
    "\n",
    "        def _backward(do_print=True):\n",
    "            self.grad += self.value ** (y.value - 1) * (y.value) * result.grad\n",
    "            y.grad += np.log(self.value) * result.value * result.grad\n",
    "            if do_print:\n",
    "                print(self)\n",
    "                print(y)\n",
    "\n",
    "        def _forward():\n",
    "            result.value = self.value ** y.value\n",
    "\n",
    "        result._forward = _forward\n",
    "        result._backward = _backward\n",
    "        return result\n",
    "\n",
    "    def __pow__(self, other):  # for x**y and x**2\n",
    "        if isinstance(other, int) or isinstance(other, float):\n",
    "            other = Value(other, f'{other}', name=f'const {other}')\n",
    "            other.isconstant = True\n",
    "        return self.do_power(other)\n",
    "        \n",
    "    def __rpow__(self, other):  # for 2**x with: self = x, other = 2\n",
    "        other = Value(other, f'{other}', name=f'const {other}')\n",
    "        other.isconstant = True\n",
    "        return other.do_power(self)\n",
    "        \n",
    "    \n",
    "    # DIVISON        \n",
    "    def __truediv__(self, other):\n",
    "        if isinstance(other, int) or isinstance(other, float):\n",
    "            other = Value(other, f'{other}', name=f'const {other}')\n",
    "            other.isconstant = True\n",
    "            \n",
    "        res = self * other**(-1)\n",
    "        res.label = f'({self.label} / {other.label})'\n",
    "        res.op = '/'\n",
    "        return res\n",
    "\n",
    "    def __rtruediv__(self, other):\n",
    "        other = Value(other, f'{other}', name=f'const {other}')\n",
    "        other.isconstant = True\n",
    "\n",
    "        res = self**(-1) * other\n",
    "        res.label = f'({other.label} / {self.label})'\n",
    "        res.op = '/'\n",
    "        return res\n",
    "\n",
    "    \n",
    "    # FORWARD PROPAGATION\n",
    "    def forward(self):\n",
    "        order = topo_sort_v2(self)[::-1]\n",
    "        for i in order:\n",
    "            i._forward()\n",
    "\n",
    "    \n",
    "    # BACKWARD PROPAGATION\n",
    "    def backward(self, do_print=True):\n",
    "        order = topo_sort_v2(self)\n",
    "        for i in order:\n",
    "            i.grad = 0\n",
    "        self.grad=1\n",
    "        if do_print:\n",
    "            print(self)\n",
    "        for i in order:\n",
    "            i._backward(do_print)"
   ]
  },
  {
   "cell_type": "code",
   "execution_count": 5,
   "id": "6ba6b1db-a807-4573-b175-bfc18b7b3f7f",
   "metadata": {},
   "outputs": [],
   "source": [
    "def gradient_descent(rate, iterations, node, do_print=True):\n",
    "    node.backward(do_print)\n",
    "    for i in range(iterations):\n",
    "        order = topo_sort_v2(node)\n",
    "        for n in order:\n",
    "            if not n.children and not n.isconstant:\n",
    "                n.value -= rate*n.grad\n",
    "        if do_print:\n",
    "            print(f'\\ni = {i}')\n",
    "        node.forward()\n",
    "        node.backward(do_print)\n",
    "    return node"
   ]
  },
  {
   "cell_type": "code",
   "execution_count": null,
   "id": "bdd643b8-032d-4156-b094-3bdf26745305",
   "metadata": {},
   "outputs": [],
   "source": []
  },
  {
   "cell_type": "code",
   "execution_count": 6,
   "id": "9e027562-0340-4fd5-9ebf-448366c81fb0",
   "metadata": {},
   "outputs": [
    {
     "name": "stdout",
     "output_type": "stream",
     "text": [
      "\n",
      "3 + x\n",
      "[x + 3] = 7, grad = 0.0\n",
      "\n",
      "x + 3\n",
      "[x + 3] = 7, grad = 0.0\n",
      "\n",
      "x + y\n",
      "[x + y] = 7, grad = 0.0\n",
      "\n",
      "\n",
      "3 - x\n",
      "[3 - x] = -1, grad = 0.0\n",
      "\n",
      "x - 3\n",
      "[x - 3] = 1, grad = 0.0\n",
      "\n",
      "x - y\n",
      "[x - y] = 1, grad = 0.0\n",
      "\n",
      "\n",
      "3 * x\n",
      "(x * 3) = 12, grad = 0.0\n",
      "\n",
      "x * 3\n",
      "(x * 3) = 12, grad = 0.0\n",
      "\n",
      "x * y\n",
      "(x * y) = 12, grad = 0.0\n",
      "\n",
      "\n",
      "3 / x\n",
      "(3 / x) = 0.75, grad = 0.0\n",
      "\n",
      "x / 3\n",
      "(x / 3) = 1.3333, grad = 0.0\n",
      "\n",
      "\n",
      "\n",
      "x / y\n",
      "(x / y) = 1.3333, grad = 0.0\n",
      "x = 4, grad = 0.3333\n",
      "y = 3, grad = -0.4444\n",
      "\n",
      "y / x\n",
      "(y / x) = 0.75, grad = 0.0\n",
      "x = 4, grad = -0.1875\n",
      "y = 3, grad = 0.25\n",
      "\n",
      "x ^ y\n",
      "x ^ y = 64, grad = 0.0\n",
      "x = 4, grad = 48\n",
      "y = 3, grad = 88.7228\n",
      "\n",
      "y ^ x\n",
      "y ^ x = 81, grad = 0.0\n",
      "x = 4, grad = 88.9876\n",
      "y = 3, grad = 108\n",
      "\n",
      "3 ^ x\n",
      "3 ^ x = 81, grad = 0.0\n",
      "x = 4, grad = 88.9876\n"
     ]
    }
   ],
   "source": [
    "# TEST ALL THE DIFFERENT OPERATIONS AND COMBINATIONS\n",
    "x = Value(4, 'x')\n",
    "y = Value(3, 'y')\n",
    "print(); print('3 + x'); print(3 + x)\n",
    "print(); print('x + 3'); print(x + 3)\n",
    "print(); print('x + y'); print(x + y)\n",
    "print()\n",
    "print(); print('3 - x'); print(3 - x)\n",
    "print(); print('x - 3'); print(x - 3)\n",
    "print(); print('x - y'); print(x - y)\n",
    "print()\n",
    "print(); print('3 * x'); print(3 * x)\n",
    "print(); print('x * 3'); print(x * 3)\n",
    "print(); print('x * y'); print(x * y)\n",
    "print()\n",
    "print(); print('3 / x'); print(3 / x)\n",
    "print(); print('x / 3'); print(x / 3)\n",
    "\n",
    "print()\n",
    "print()\n",
    "\n",
    "print(); print('x / y'); z = x / y; print(z); z.backward(False); print(f'{x}\\n{y}')\n",
    "print(); print('y / x'); z = y / x; print(z); z.backward(False); print(f'{x}\\n{y}')\n",
    "print(); print('x ^ y'); z = x ** y; print(z); z.backward(False); print(f'{x}\\n{y}')\n",
    "print(); print('y ^ x'); z = y ** x; print(z); z.backward(False); print(f'{x}\\n{y}')\n",
    "print(); print('3 ^ x'); z = 3 ** x; print(z); z.backward(False); print(x)"
   ]
  },
  {
   "cell_type": "code",
   "execution_count": null,
   "id": "1efc5d55-a76d-4775-b313-b1e4d72ed352",
   "metadata": {},
   "outputs": [],
   "source": []
  },
  {
   "cell_type": "code",
   "execution_count": 7,
   "id": "ec549acb-f4ab-4bc6-8542-443237683aae",
   "metadata": {},
   "outputs": [
    {
     "name": "stdout",
     "output_type": "stream",
     "text": [
      "\"L\" = ([(a * b) + c] * f) = -8, grad = 0.0\n",
      "\"d\" = [(a * b) + c] = 4, grad = 0.0\n",
      "\"c\" = c = 10, grad = 0.0\n",
      "\"e\" = (a * b) = -6, grad = 0.0\n",
      "\"a\" = a = 2, grad = 0.0\n",
      "\"b\" = b = -3, grad = 0.0\n",
      "\"f\" = f = -2, grad = 0.0\n"
     ]
    }
   ],
   "source": [
    "# TRY BACKPROPAGATION ON EXAMPLE FROM VIDEO\n",
    "a = Value(2, 'a', name='a')\n",
    "b = Value(-3, 'b', name='b')\n",
    "e = a * b\n",
    "c = Value(10, 'c', name='c')\n",
    "d = e + c\n",
    "f = Value(-2, 'f', name='f')\n",
    "L = d * f\n",
    "a.name = 'a'\n",
    "d.name = 'd'\n",
    "e.name = 'e'\n",
    "L.name = 'L'\n",
    "\n",
    "for i in topo_sort_v2(L): print(i)  # see all the values (with gradients set to 0)"
   ]
  },
  {
   "cell_type": "code",
   "execution_count": 8,
   "id": "a55b67b8-8e86-489d-9add-6d0518c05159",
   "metadata": {},
   "outputs": [
    {
     "name": "stdout",
     "output_type": "stream",
     "text": [
      "\"d\" = [(a * b) + c] = 4, grad = -2.0\n",
      "\"f\" = f = -2, grad = 4.0\n",
      "\"e\" = (a * b) = -6, grad = -2.0\n",
      "\"c\" = c = 10, grad = -2.0\n",
      "\"a\" = a = 2, grad = 6.0\n",
      "\"b\" = b = -3, grad = -4.0\n"
     ]
    }
   ],
   "source": [
    "L.grad = 1  # manually backpropagate\n",
    "L._backward()\n",
    "f._backward()\n",
    "d._backward()\n",
    "e._backward()"
   ]
  },
  {
   "cell_type": "code",
   "execution_count": 9,
   "id": "f6a2ee69-61f0-4b91-b4ae-c4c71c07de72",
   "metadata": {},
   "outputs": [
    {
     "name": "stdout",
     "output_type": "stream",
     "text": [
      "\"L\" = ([(a * b) + c] * f) = -8, grad = 1\n",
      "\"d\" = [(a * b) + c] = 4, grad = -2.0\n",
      "\"c\" = c = 10, grad = -2.0\n",
      "\"e\" = (a * b) = -6, grad = -2.0\n",
      "\"a\" = a = 2, grad = 6.0\n",
      "\"b\" = b = -3, grad = -4.0\n",
      "\"f\" = f = -2, grad = 4.0\n"
     ]
    }
   ],
   "source": [
    "for i in topo_sort_v1(L): print(i)  # check all values to see if all gradients changed"
   ]
  },
  {
   "cell_type": "code",
   "execution_count": 10,
   "id": "d7bed284-117f-4aa6-9d2d-ffe9e3e067ec",
   "metadata": {
    "scrolled": true
   },
   "outputs": [
    {
     "name": "stdout",
     "output_type": "stream",
     "text": [
      "\"L\" = ([(a * b) + c] * f) = -8, grad = 1\n",
      "\"d\" = [(a * b) + c] = 4, grad = -2\n",
      "\"f\" = f = -2, grad = 4\n",
      "\"e\" = (a * b) = -6, grad = -2\n",
      "\"c\" = c = 10, grad = -2\n",
      "\"a\" = a = 2, grad = 6\n",
      "\"b\" = b = -3, grad = -4\n"
     ]
    }
   ],
   "source": [
    "L.backward()  # automatically backpropagate (and get the same results)"
   ]
  },
  {
   "cell_type": "code",
   "execution_count": 11,
   "id": "8531b7df-b4e5-479b-a90b-5e60d4593339",
   "metadata": {},
   "outputs": [
    {
     "data": {
      "text/plain": [
       "\"L\" = ([(a * b) + c] * f) = 10.0, grad = 1"
      ]
     },
     "execution_count": 11,
     "metadata": {},
     "output_type": "execute_result"
    }
   ],
   "source": [
    "a.value = 5.0  # test forward propagation: set a = 0 and check how that affects L\n",
    "L.forward()\n",
    "L"
   ]
  },
  {
   "cell_type": "code",
   "execution_count": null,
   "id": "24c76d8b-d2a1-431d-9fcd-7bde82ae01fb",
   "metadata": {},
   "outputs": [],
   "source": []
  },
  {
   "cell_type": "code",
   "execution_count": 12,
   "id": "5e9dfeda-7279-42bd-9d32-b9a12c138bf9",
   "metadata": {},
   "outputs": [
    {
     "name": "stdout",
     "output_type": "stream",
     "text": [
      "\"f\" = [[((x * y) ^ 2 / z) + 4] + 4] = 182.6769, grad = 0.0\n",
      "\"const 4\" = 4, grad = 0.0\n",
      "[((x * y) ^ 2 / z) + 4] = 178.6769, grad = 0.0\n",
      "((x * y) ^ 2 / z) = 174.6769, grad = 0.0\n",
      "(x * y) ^ 2 = 976.4438, grad = 0.0\n",
      "(x * y) = 31.2481, grad = 0.0\n",
      "\"x\" = x = 5.59, grad = 0.0\n",
      "\"y\" = y = 5.59, grad = 0.0\n",
      "\"const 2\" = 2, grad = 0.0\n",
      "z ^ -1 = 0.1789, grad = 0.0\n",
      "\"z\" = z = 5.59, grad = 0.0\n",
      "\"const -1\" = -1, grad = 0.0\n",
      "\"const 4\" = 4, grad = 0.0\n"
     ]
    }
   ],
   "source": [
    "x = Value(5.59, 'x', name='x')\n",
    "y = Value(5.59, 'y', name='y')\n",
    "z = Value(5.59, 'z', name='z')\n",
    "f = 4 + (x * y) ** 2 / z + 4  # make up a function\n",
    "f.name = 'f'\n",
    "\n",
    "for i in topo_sort_v2(f): print(i)  # check all of the parts it consists of (in needed order)"
   ]
  },
  {
   "cell_type": "code",
   "execution_count": 13,
   "id": "63cfd8cf-cd72-4589-895f-87ae7b998441",
   "metadata": {},
   "outputs": [
    {
     "data": {
      "text/plain": [
       "\"f\" = [[((x * y) ^ 2 / z) + 4] + 4] = 8.0, grad = 1"
      ]
     },
     "execution_count": 13,
     "metadata": {},
     "output_type": "execute_result"
    }
   ],
   "source": [
    "gradient_descent(0.1, 1000, f, do_print=False)  # and gradient descent"
   ]
  },
  {
   "cell_type": "code",
   "execution_count": 14,
   "id": "e02c7c6c-dc40-4d1c-b565-ec61303c8e72",
   "metadata": {},
   "outputs": [
    {
     "name": "stdout",
     "output_type": "stream",
     "text": [
      "8.000049322535123\n"
     ]
    }
   ],
   "source": [
    "print(f.value)  # get the correct result"
   ]
  }
 ],
 "metadata": {
  "kernelspec": {
   "display_name": "Python 3 (ipykernel)",
   "language": "python",
   "name": "python3"
  },
  "language_info": {
   "codemirror_mode": {
    "name": "ipython",
    "version": 3
   },
   "file_extension": ".py",
   "mimetype": "text/x-python",
   "name": "python",
   "nbconvert_exporter": "python",
   "pygments_lexer": "ipython3",
   "version": "3.12.2"
  }
 },
 "nbformat": 4,
 "nbformat_minor": 5
}
