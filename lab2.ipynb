{
 "cells": [
  {
   "cell_type": "code",
   "execution_count": 1,
   "id": "4318a2ef-bc0f-43dc-83ba-86a9e836ecb9",
   "metadata": {},
   "outputs": [],
   "source": [
    "# for any comments that refer to \"the video\"\n",
    "# here's the link - https://youtu.be/VMj-3S1tku0"
   ]
  },
  {
   "cell_type": "code",
   "execution_count": 2,
   "id": "800d5e9a-462e-4ca9-9cc3-d8d933eaf81d",
   "metadata": {},
   "outputs": [],
   "source": [
    "import numpy as np"
   ]
  },
  {
   "cell_type": "code",
   "execution_count": 3,
   "id": "b9fc428f-ea83-4bd5-8bbe-73b54446d08c",
   "metadata": {},
   "outputs": [],
   "source": [
    "def topo_sort_v1(a):\n",
    "    done = []\n",
    "    def visit(val):\n",
    "        if val.children:\n",
    "            for i in val.children:\n",
    "                visit(i)\n",
    "        if val not in done:\n",
    "            done.append(val)\n",
    "        return done[::-1]\n",
    "    return visit(a)"
   ]
  },
  {
   "cell_type": "code",
   "execution_count": 4,
   "id": "28b93b9d-a29e-40aa-a11d-cc6b0b645f32",
   "metadata": {},
   "outputs": [],
   "source": [
    "def topo_sort_v2(a):\n",
    "    done = []\n",
    "    def visit(val):\n",
    "        if val not in done:\n",
    "            if val.children:\n",
    "                for i in val.children:\n",
    "                    visit(i)\n",
    "            done.append(val)\n",
    "        return done[::-1]\n",
    "    return visit(a)"
   ]
  },
  {
   "cell_type": "code",
   "execution_count": 5,
   "id": "374ba612-9d2e-4fb9-9577-d9ba47de3086",
   "metadata": {},
   "outputs": [],
   "source": [
    "class Value:\n",
    "    def __init__(self, value, label='', children=(), op='', name=''):\n",
    "        self.value = value\n",
    "        self.label = label\n",
    "        self.grad = 0.0\n",
    "        self.children = set(children)\n",
    "        self.op = op\n",
    "        self._backward = lambda verbose=None: None\n",
    "        self._forward = lambda verbose=None: None\n",
    "        self.name = name\n",
    "        self.isconstant = False\n",
    "        # print(f\"{f'\"{self.name}\" = ' if self.name else f'{self.label} = '}{self.value:.4f}\")\n",
    "\n",
    "    def __repr__(self):\n",
    "        return f\"{f'\"{self.name}\" = ' if self.name else ''}{f'{self.label} = ' if not self.isconstant else ''}{round(self.value, 4)}, grad = {round(self.grad, 8)}\"\n",
    "\n",
    "    \n",
    "    # UNARY OPERATORS\n",
    "    def __pos__(self):\n",
    "        return self\n",
    "\n",
    "    def __neg__(self):\n",
    "        return (-1) * self\n",
    "\n",
    "    \n",
    "    # ADDITION\n",
    "    def __add__(self, other):\n",
    "        if isinstance(other, int) or isinstance(other, float):\n",
    "            other = Value(other, f'{other}', name=f'const {other}')\n",
    "            other.isconstant = True\n",
    "            \n",
    "        res = Value(self.value + other.value, label=f'[{self.label} + {other.label}]', children=(self, other), op='+')\n",
    "        def _backward(verbose=True):\n",
    "            self.grad += res.grad\n",
    "            other.grad += res.grad\n",
    "            if verbose == 2:\n",
    "                if not self.children and not self.isconstant:\n",
    "                    print(self)\n",
    "                if not other.children and not other.isconstant:\n",
    "                    print(other)\n",
    "            elif verbose:\n",
    "                print(self)\n",
    "                print(other)\n",
    "            \n",
    "        def _forward():\n",
    "            res.value = self.value + other.value\n",
    "\n",
    "        res._forward = _forward\n",
    "        res._backward = _backward\n",
    "        return res\n",
    "\n",
    "    def __radd__(self, other):\n",
    "        return self + other\n",
    "\n",
    "    \n",
    "    # SUBTRACTION\n",
    "    def __sub__(self, other):\n",
    "        if isinstance(other, int) or isinstance(other, float):\n",
    "            other = Value(other, f'{other}', name=f'const {other}')\n",
    "            other.isconstant = True\n",
    "\n",
    "        res = self + -other\n",
    "        res.label = f'[{self.label} - {other.label}]'\n",
    "        res.op = '-'\n",
    "        return res\n",
    "\n",
    "    def __rsub__(self, other):\n",
    "        other = Value(other, f'{other}', name=f'const {other}')\n",
    "        other.isconstant = True\n",
    "\n",
    "        res = -self + other\n",
    "        res.label = f'[{other.value} - {self.label}]'\n",
    "        return res\n",
    "\n",
    "    \n",
    "    # MULTIPLICATION\n",
    "    def __mul__(self, other):\n",
    "        if isinstance(other, int) or isinstance(other, float):\n",
    "            other = Value(other, f'{other}', name=f'const {other}')\n",
    "            other.isconstant = True\n",
    "            \n",
    "        res = Value(self.value * other.value, label=f'({self.label} * {other.label})', children=(self, other), op='*')\n",
    "        def _backward(verbose=True):\n",
    "            self.grad += other.value * res.grad\n",
    "            other.grad += self.value * res.grad\n",
    "            if verbose == 2:\n",
    "                if not self.children and not self.isconstant:\n",
    "                    print(self)\n",
    "                if not other.children and not other.isconstant:\n",
    "                    print(other)\n",
    "            elif verbose:\n",
    "                print(self)\n",
    "                print(other)\n",
    "\n",
    "        def _forward():\n",
    "            res.value = self.value * other.value\n",
    "            \n",
    "        res._forward = _forward\n",
    "        res._backward = _backward\n",
    "        return res\n",
    "\n",
    "    def __rmul__(self, other):\n",
    "        return self * other\n",
    "        \n",
    "\n",
    "    # EXPONENTIAL OPERATOR\n",
    "    def __pow__(self, other):  # for x**y and x**2\n",
    "        if isinstance(other, int) or isinstance(other, float):\n",
    "            other = Value(other, f'{other}', name=f'const {other}')\n",
    "            other.isconstant = True\n",
    "        if not (not other.isconstant and self.value < 0):  # bans expressions like -2**x, but allows 2**x, x**-3, x**3, 2**3 and 2**-3\n",
    "            res = Value(self.value ** other.value, label=f'{self.label} ^ {other.label}', children=(self, other), op='^')\n",
    "            def _backward(verbose=True):\n",
    "                self.grad += self.value ** (other.value - 1) * (other.value) * res.grad\n",
    "                if self.value > 0:\n",
    "                    other.grad += np.log(self.value) * res.value * res.grad\n",
    "                if verbose == 2:\n",
    "                    if not self.children and not self.isconstant:\n",
    "                        print(self)\n",
    "                    if not other.children and not other.isconstant:\n",
    "                        print(other)\n",
    "                elif verbose:\n",
    "                    print(self)\n",
    "                    print(other)\n",
    "    \n",
    "            def _forward():\n",
    "                res.value = self.value ** other.value\n",
    "    \n",
    "            res._forward = _forward\n",
    "            res._backward = _backward\n",
    "            return res\n",
    "        print('why did you do that. you killed the program. you should be ashamed of yourself.')\n",
    "        print(f'{self.label} = {self.value} < 0 and {other.label} is not a constant!!! never do this again.')\n",
    "        print('sentenced to KeyboardInterrupt')\n",
    "        raise KeyboardInterrupt\n",
    "\n",
    "        \n",
    "    def __rpow__(self, other):  # for 2**x with: self = x, other = 2\n",
    "        other = Value(other, f'{other}', name=f'const {other}')\n",
    "        other.isconstant = True\n",
    "        return other**self\n",
    "        \n",
    "    \n",
    "    # DIVISON        \n",
    "    def __truediv__(self, other):\n",
    "        if isinstance(other, int) or isinstance(other, float):\n",
    "            other = Value(other, f'{other}', name=f'const {other}')\n",
    "            other.isconstant = True\n",
    "            \n",
    "        res = self * other**(-1)\n",
    "        res.label = f'({self.label} / {other.label})'\n",
    "        res.op = '/'\n",
    "        return res\n",
    "\n",
    "    def __rtruediv__(self, other):\n",
    "        other = Value(other, f'{other}', name=f'const {other}')\n",
    "        other.isconstant = True\n",
    "\n",
    "        res = self**(-1) * other\n",
    "        res.label = f'({other.label} / {self.label})'\n",
    "        res.op = '/'\n",
    "        return res\n",
    "\n",
    "\n",
    "    # COMPARISON OPERATORS\n",
    "    def __lt__(self, other):\n",
    "        if isinstance(other, int) or isinstance(other, float):\n",
    "            other = Value(other, f'{other}', name=f'const {other}')\n",
    "            other.isconstant = True\n",
    "        return self.value < other.value\n",
    "\n",
    "    def __gt__(self, other):\n",
    "        if isinstance(other, int) or isinstance(other, float):\n",
    "            other = Value(other, f'{other}', name=f'const {other}')\n",
    "            other.isconstant = True\n",
    "        return self.value > other.value\n",
    "\n",
    "    def __le__(self, other):\n",
    "        if isinstance(other, int) or isinstance(other, float):\n",
    "            other = Value(other, f'{other}', name=f'const {other}')\n",
    "            other.isconstant = True\n",
    "        return self.value <= other.value\n",
    "\n",
    "    def __ge__(self, other):\n",
    "        if isinstance(other, int) or isinstance(other, float):\n",
    "            other = Value(other, f'{other}', name=f'const {other}')\n",
    "            other.isconstant = True\n",
    "        return self.value >= other.value\n",
    "\n",
    "    \n",
    "    # apparently i cant overload == and !=, that breaks other stuff\n",
    "    \n",
    "    # def __eq__(self, other):\n",
    "    #     if isinstance(other, int) or isinstance(other, float):\n",
    "    #         other = Value(other, f'{other}', name=f'const {other}')\n",
    "    #         other.isconstant = True\n",
    "    #     return self.value == other.value\n",
    "\n",
    "    # def __ne__(self, other):\n",
    "    #     if isinstance(other, int) or isinstance(other, float):\n",
    "    #         other = Value(other, f'{other}', name=f'const {other}')\n",
    "    #         other.isconstant = True\n",
    "    #     return self.value != other.value\n",
    "\n",
    "    \n",
    "    # FORWARD PROPAGATION\n",
    "    def forward(self):\n",
    "        order = topo_sort_v2(self)[::-1]\n",
    "        for i in order:\n",
    "            i._forward()\n",
    "\n",
    "    \n",
    "    # BACKWARD PROPAGATION\n",
    "    def backward(self, verbose=True):\n",
    "        order = topo_sort_v2(self)\n",
    "        for i in order:\n",
    "            i.grad = 0\n",
    "        self.grad=1\n",
    "        if verbose:\n",
    "            print(self)\n",
    "            print()\n",
    "        for i in order:\n",
    "            i._backward(verbose)\n",
    "\n",
    "\n",
    "    # ACTIVATION FUNCTIONS\n",
    "    def relu(self):\n",
    "        _children = self.children.copy()\n",
    "        _children.add(self)\n",
    "        res = Value(max(0, self.value), f'RELU({self.name if self.name else self.label})', children=_children, op='relu') \n",
    "        \n",
    "        def _forward():\n",
    "            res.value = max(0, self.value)\n",
    "        \n",
    "        def _backward(verbose=True):\n",
    "            self.grad += (self > 0) * res.grad\n",
    "            if verbose == 2:\n",
    "                if not self.children and not self.isconstant:\n",
    "                    print(self)\n",
    "            elif verbose:\n",
    "                print(self)\n",
    "                \n",
    "        res._backward = _backward\n",
    "        res._forward = _forward\n",
    "        return res\n",
    "\n",
    "    def softplus(self):\n",
    "        _children = self.children.copy()\n",
    "        _children.add(self)\n",
    "        res = Value(np.log(1 + np.exp(self.value)), f'Softplus({self.name if self.name else self.label})', children=_children, op='softplus') \n",
    "        \n",
    "        def _forward():\n",
    "            res.value = np.log(1 + np.exp(self.value))\n",
    "        \n",
    "        def _backward(verbose=True):\n",
    "            self.grad += (1 / (1 + np.exp(-self.value))) * res.grad\n",
    "            if verbose == 2:\n",
    "                if not self.children and not self.isconstant:\n",
    "                    print(self)\n",
    "            elif verbose:\n",
    "                print(self)\n",
    "                \n",
    "        res._backward = _backward\n",
    "        res._forward = _forward\n",
    "        return res\n",
    "\n",
    "    \n",
    "    # VISULATIZATION HELP\n",
    "    def print_tree(self):\n",
    "        for i in topo_sort_v2(self): print(i)"
   ]
  },
  {
   "cell_type": "code",
   "execution_count": 6,
   "id": "6ba6b1db-a807-4573-b175-bfc18b7b3f7f",
   "metadata": {},
   "outputs": [],
   "source": [
    "def gradient_descent(node, rate, iterations, verbose=True):\n",
    "    node.backward(verbose)\n",
    "    for i in range(iterations):\n",
    "        order = topo_sort_v2(node)\n",
    "        for n in order:\n",
    "            if not n.children and not n.isconstant:\n",
    "                n.value -= rate*n.grad\n",
    "        if verbose:\n",
    "            print(f'\\ni = {i}')\n",
    "        node.forward()\n",
    "        node.backward(verbose)\n",
    "    return node"
   ]
  },
  {
   "cell_type": "code",
   "execution_count": null,
   "id": "bdd643b8-032d-4156-b094-3bdf26745305",
   "metadata": {},
   "outputs": [],
   "source": []
  },
  {
   "cell_type": "code",
   "execution_count": 7,
   "id": "9e027562-0340-4fd5-9ebf-448366c81fb0",
   "metadata": {},
   "outputs": [
    {
     "name": "stdout",
     "output_type": "stream",
     "text": [
      "x = 4, grad = 0.0\n",
      "y = -3, grad = 0.0\n",
      "z = 4, grad = 0.0\n",
      "\n",
      "\n",
      "3 + x: [x + 3] = 7, grad = 0.0\n",
      "x + 3: [x + 3] = 7, grad = 0.0\n",
      "x + y: [x + y] = 1, grad = 0.0\n",
      "\n",
      "3 - x: [3 - x] = -1, grad = 0.0\n",
      "x - 3: [x - 3] = 1, grad = 0.0\n",
      "x - y: [x - y] = 7, grad = 0.0\n",
      "\n",
      "3 * x: (x * 3) = 12, grad = 0.0\n",
      "x * 3: (x * 3) = 12, grad = 0.0\n",
      "x * y: (x * y) = -12, grad = 0.0\n",
      "\n",
      "-x: (x * -1) = -4, grad = 0.0\n",
      "\n",
      "4 > x: False\n",
      "x > 4: False\n",
      "4 <= x: True\n",
      "\n",
      "using == and != does not yield anything useful.\n",
      "it doesnt look at the equality of the object values\n",
      "but rather the equality of the objects themselves\n",
      "\n",
      "x == 4: False\n",
      "x == z: False\n",
      "z != x: True\n",
      "\n",
      "3 / x: (3 / x) = 0.75, grad = 0.0\n",
      "x / 3: (x / 3) = 1.3333, grad = 0.0\n",
      "\n",
      "\n",
      "x / y\n",
      "(x / y) = -1.3333, grad = 1\n",
      "x = 4, grad = -0.33333333\n",
      "y = -3, grad = -0.44444444\n",
      "\n",
      "y / x\n",
      "(y / x) = -0.75, grad = 1\n",
      "x = 4, grad = 0.1875\n",
      "y = -3, grad = 0.25\n",
      "\n",
      "x ^ y\n",
      "x ^ y = 0.0156, grad = 1\n",
      "x = 4, grad = -0.01171875\n",
      "y = -3, grad = 0.02166085\n",
      "\n",
      "y ^ x\n",
      "why did you do that. you killed the program. you should be ashamed of yourself.\n",
      "y = -3 < 0 and x is not a constant!!! never do this again.\n",
      "sentenced to KeyboardInterrupt\n",
      "fine, you get to live because this was a test\n",
      "\n",
      "3 ^ x\n",
      "3 ^ x = 81, grad = 1\n",
      "x = 4, grad = 88.98759538\n"
     ]
    }
   ],
   "source": [
    "# TEST ALL THE DIFFERENT OPERATIONS AND COMBINATIONS\n",
    "\n",
    "x = Value(4, 'x')\n",
    "y = Value(-3, 'y')\n",
    "z = Value(4, 'z')\n",
    "print(x)\n",
    "print(y)\n",
    "print(z)\n",
    "print()\n",
    "print()\n",
    "print('3 + x', end=': '); print(3 + x)\n",
    "print('x + 3', end=': '); print(x + 3)\n",
    "print('x + y', end=': '); print(x + y)\n",
    "print()\n",
    "print('3 - x', end=': '); print(3 - x)\n",
    "print('x - 3', end=': '); print(x - 3)\n",
    "print('x - y', end=': '); print(x - y)\n",
    "print()\n",
    "print('3 * x', end=': '); print(3 * x)\n",
    "print('x * 3', end=': '); print(x * 3)\n",
    "print('x * y', end=': '); print(x * y)\n",
    "print()\n",
    "print('-x', end=': '); print(-x)\n",
    "print()\n",
    "print('4 > x', end=': '); print(4 > x)\n",
    "print('x > 4', end=': '); print(x > 4)\n",
    "print('4 <= x', end=': '); print(4 <= x)\n",
    "print()\n",
    "print('using == and != does not yield anything useful.')\n",
    "print('it doesnt look at the equality of the object values')\n",
    "print('but rather the equality of the objects themselves')\n",
    "print()\n",
    "print('x == 4', end=': '); print(x == 4)\n",
    "print('x == z', end=': '); print(x == z)\n",
    "print('z != x', end=': '); print(z != x)\n",
    "print()\n",
    "print('3 / x', end=': '); print(3 / x)\n",
    "print('x / 3', end=': '); print(x / 3)\n",
    "print()\n",
    "print(); print('x / y'); z = x / y; z.backward(False); print(z); print(f'{x}\\n{y}')\n",
    "print(); print('y / x'); z = y / x; z.backward(False); print(z); print(f'{x}\\n{y}')\n",
    "print(); print('x ^ y'); z = x ** y; z.backward(False); print(z); print(f'{x}\\n{y}')\n",
    "print()\n",
    "try: print('y ^ x'); z = y ** x; z.backward(False); print(z); print(f'{x}\\n{y}') \n",
    "except KeyboardInterrupt: print('fine, you get to live because this was a test')\n",
    "print(); print('3 ^ x'); z = 3 ** x; z.backward(False); print(z); print(x)"
   ]
  },
  {
   "cell_type": "code",
   "execution_count": null,
   "id": "1efc5d55-a76d-4775-b313-b1e4d72ed352",
   "metadata": {},
   "outputs": [],
   "source": []
  },
  {
   "cell_type": "code",
   "execution_count": 8,
   "id": "ec549acb-f4ab-4bc6-8542-443237683aae",
   "metadata": {},
   "outputs": [
    {
     "name": "stdout",
     "output_type": "stream",
     "text": [
      "\"L\" = ([(a * b) + c] * f) = -8, grad = 0.0\n",
      "\"f\" = f = -2, grad = 0.0\n",
      "\"d\" = [(a * b) + c] = 4, grad = 0.0\n",
      "\"c\" = c = 10, grad = 0.0\n",
      "\"e\" = (a * b) = -6, grad = 0.0\n",
      "\"a\" = a = 2, grad = 0.0\n",
      "\"b\" = b = -3, grad = 0.0\n"
     ]
    }
   ],
   "source": [
    "# TRY BACKPROPAGATION ON EXAMPLE FROM VIDEO (manually and automatically)\n",
    "\n",
    "a = Value(2, 'a', name='a')\n",
    "b = Value(-3, 'b', name='b')\n",
    "e = a * b\n",
    "c = Value(10, 'c', name='c')\n",
    "d = e + c\n",
    "f = Value(-2, 'f', name='f')\n",
    "L = d * f\n",
    "\n",
    "e.name = 'e'\n",
    "d.name = 'd'\n",
    "L.name = 'L'\n",
    "\n",
    "L.print_tree()  # make sure all values are correct (gradients set to 0)"
   ]
  },
  {
   "cell_type": "code",
   "execution_count": 9,
   "id": "a55b67b8-8e86-489d-9add-6d0518c05159",
   "metadata": {},
   "outputs": [
    {
     "name": "stdout",
     "output_type": "stream",
     "text": [
      "\"L\" = ([(a * b) + c] * f) = -8, grad = 1\n",
      "\"f\" = f = -2, grad = 4.0\n",
      "\"d\" = [(a * b) + c] = 4, grad = -2.0\n",
      "\"c\" = c = 10, grad = -2.0\n",
      "\"e\" = (a * b) = -6, grad = -2.0\n",
      "\"a\" = a = 2, grad = 6.0\n",
      "\"b\" = b = -3, grad = -4.0\n"
     ]
    }
   ],
   "source": [
    "# MANUAL BACKPROPAGATION\n",
    "\n",
    "L.grad = 1\n",
    "L._backward(verbose=False)\n",
    "f._backward(verbose=False)\n",
    "d._backward(verbose=False)\n",
    "e._backward(verbose=False)\n",
    "\n",
    "L.print_tree()"
   ]
  },
  {
   "cell_type": "code",
   "execution_count": 10,
   "id": "d7bed284-117f-4aa6-9d2d-ffe9e3e067ec",
   "metadata": {
    "scrolled": true
   },
   "outputs": [
    {
     "name": "stdout",
     "output_type": "stream",
     "text": [
      "\"L\" = ([(a * b) + c] * f) = -8, grad = 1\n",
      "\n",
      "\"d\" = [(a * b) + c] = 4, grad = -2\n",
      "\"f\" = f = -2, grad = 4\n",
      "\"e\" = (a * b) = -6, grad = -2\n",
      "\"c\" = c = 10, grad = -2\n",
      "\"a\" = a = 2, grad = 6\n",
      "\"b\" = b = -3, grad = -4\n"
     ]
    }
   ],
   "source": [
    "# AUTOMATED BACKPROPAGATION\n",
    "\n",
    "L.backward()  # (we get the same results as before)"
   ]
  },
  {
   "cell_type": "code",
   "execution_count": 11,
   "id": "8531b7df-b4e5-479b-a90b-5e60d4593339",
   "metadata": {},
   "outputs": [
    {
     "data": {
      "text/plain": [
       "\"L\" = ([(a * b) + c] * f) = 10, grad = 1"
      ]
     },
     "execution_count": 11,
     "metadata": {},
     "output_type": "execute_result"
    }
   ],
   "source": [
    "# FORWARD PROPAGATION TEST\n",
    "\n",
    "a.value = 5  # set a = 5 and check how that affects L\n",
    "L.forward()\n",
    "L\n",
    "\n",
    "# the value indeed changed, forward is working correctly"
   ]
  },
  {
   "cell_type": "code",
   "execution_count": null,
   "id": "24c76d8b-d2a1-431d-9fcd-7bde82ae01fb",
   "metadata": {},
   "outputs": [],
   "source": []
  },
  {
   "cell_type": "code",
   "execution_count": 12,
   "id": "5e9dfeda-7279-42bd-9d32-b9a12c138bf9",
   "metadata": {},
   "outputs": [
    {
     "name": "stdout",
     "output_type": "stream",
     "text": [
      "f = 182.67687899999999\n"
     ]
    }
   ],
   "source": [
    "# GRADIENT DESCENT TEST 1\n",
    "\n",
    "x = Value(5.59, 'x')\n",
    "y = Value(5.59, 'y')\n",
    "z = Value(5.59, 'z')\n",
    "f = 4 + (x * y) ** 2 / z + 4; f.name = 'f'\n",
    "\n",
    "print(f'f = {f.value}')"
   ]
  },
  {
   "cell_type": "code",
   "execution_count": 13,
   "id": "63cfd8cf-cd72-4589-895f-87ae7b998441",
   "metadata": {},
   "outputs": [
    {
     "data": {
      "text/plain": [
       "\"f\" = [[((x * y) ^ 2 / z) + 4] + 4] = 8.0042, grad = 1"
      ]
     },
     "execution_count": 13,
     "metadata": {},
     "output_type": "execute_result"
    }
   ],
   "source": [
    "gradient_descent(f, 0.01, 1000, verbose=False)  # find the function's local minimum"
   ]
  },
  {
   "cell_type": "code",
   "execution_count": 14,
   "id": "e02c7c6c-dc40-4d1c-b565-ec61303c8e72",
   "metadata": {},
   "outputs": [
    {
     "name": "stdout",
     "output_type": "stream",
     "text": [
      "f_min = 8.004189266940877\n",
      "\n",
      "x = 0.4121, grad = 0.0203304\n",
      "y = 0.4121, grad = 0.0203304\n",
      "z = 6.8857, grad = -0.0006084\n"
     ]
    }
   ],
   "source": [
    "print(f'f_min = {f.value}\\n')  # visualize results (print local minimum as well as the new parameter values)\n",
    "print(x)\n",
    "print(y)\n",
    "print(z)"
   ]
  },
  {
   "cell_type": "code",
   "execution_count": null,
   "id": "f81a465a-a278-4418-9f85-e740d6015902",
   "metadata": {},
   "outputs": [],
   "source": []
  },
  {
   "cell_type": "code",
   "execution_count": 15,
   "id": "91962f5b-a01f-41da-bf2f-68c1fb941349",
   "metadata": {},
   "outputs": [
    {
     "name": "stdout",
     "output_type": "stream",
     "text": [
      "f = 717\n"
     ]
    }
   ],
   "source": [
    "# GRADIENT DESCENT TEST 2\n",
    "\n",
    "x1 = Value(2, 'x1')\n",
    "x2 = Value(3, 'x2')\n",
    "x3 = Value(4, 'x3')\n",
    "f = x1**2 + 17*x2**2 + 35*x3**2; f.name='f'\n",
    "\n",
    "print(f'f = {f.value}')"
   ]
  },
  {
   "cell_type": "code",
   "execution_count": 16,
   "id": "88d35c43-0df5-48b0-b2cb-0d3a9eb38b96",
   "metadata": {},
   "outputs": [
    {
     "data": {
      "text/plain": [
       "\"f\" = [[x1 ^ 2 + (x2 ^ 2 * 17)] + (x3 ^ 2 * 35)] = 0.0, grad = 1"
      ]
     },
     "execution_count": 16,
     "metadata": {},
     "output_type": "execute_result"
    }
   ],
   "source": [
    "gradient_descent(f, 0.01, 600, verbose=False)"
   ]
  },
  {
   "cell_type": "code",
   "execution_count": 17,
   "id": "da1ebc18-66ca-41d1-954e-24bef7ce9767",
   "metadata": {},
   "outputs": [
    {
     "name": "stdout",
     "output_type": "stream",
     "text": [
      "f_min = 1.1839976007154615e-10\n",
      "\n",
      "x1 = 0.0, grad = 2.176e-05\n",
      "x2 = 0.0, grad = 0.0\n",
      "x3 = 0.0, grad = 0.0\n"
     ]
    }
   ],
   "source": [
    "print(f'f_min = {f.value}\\n')\n",
    "print(x1)\n",
    "print(x2)\n",
    "print(x3)"
   ]
  },
  {
   "cell_type": "code",
   "execution_count": null,
   "id": "23b60109-5981-4620-84c2-33493e05e072",
   "metadata": {},
   "outputs": [],
   "source": []
  },
  {
   "cell_type": "code",
   "execution_count": 18,
   "id": "b46d6857-4749-46ad-aa89-8d101c89e736",
   "metadata": {},
   "outputs": [
    {
     "name": "stdout",
     "output_type": "stream",
     "text": [
      "L = 556\n"
     ]
    }
   ],
   "source": [
    "# ACTIVATION FUNCTION TEST: RELU (1)\n",
    "\n",
    "x1 = Value(2, 'x1')\n",
    "x2 = Value(3, 'x2')\n",
    "x3 = Value(4, 'x3')\n",
    "x4 = Value(1, 'x4')\n",
    "f = x1**2 + 17*x2**2 + 25*x3**2 - x4; f.name='f'\n",
    "L = f.relu(); L.name = 'L'\n",
    "\n",
    "print(f'L = {L.value}')"
   ]
  },
  {
   "cell_type": "code",
   "execution_count": 19,
   "id": "b15e2cbb-9a2c-4e5d-8c24-8ca4ef171cfe",
   "metadata": {},
   "outputs": [
    {
     "name": "stdout",
     "output_type": "stream",
     "text": [
      "\"L\" = RELU(f) = 556, grad = 1\n",
      "\n",
      "x3 = 4, grad = 200\n",
      "x2 = 3, grad = 102\n",
      "x1 = 2, grad = 4\n",
      "x4 = 1, grad = -1\n"
     ]
    }
   ],
   "source": [
    "L.backward(verbose=2)  # verbose=2 verboses parameters only"
   ]
  },
  {
   "cell_type": "code",
   "execution_count": 20,
   "id": "8a7a1841-16d9-43d1-a8f7-87422f225d85",
   "metadata": {},
   "outputs": [
    {
     "data": {
      "text/plain": [
       "\"L\" = RELU(f) = 0, grad = 1"
      ]
     },
     "execution_count": 20,
     "metadata": {},
     "output_type": "execute_result"
    }
   ],
   "source": [
    "gradient_descent(L, 0.001, 1000, verbose=False)"
   ]
  },
  {
   "cell_type": "code",
   "execution_count": 21,
   "id": "0d89cb58-79df-4bda-bda3-dd4972a27abd",
   "metadata": {},
   "outputs": [
    {
     "name": "stdout",
     "output_type": "stream",
     "text": [
      "L_min = 0\n",
      "\n",
      "x1 = 1.1327, grad = 0.0\n",
      "x2 = 0.0002, grad = 0.0\n",
      "x3 = 0.0, grad = 0.0\n",
      "x4 = 1.284, grad = 0\n"
     ]
    }
   ],
   "source": [
    "print(f'L_min = {L.value}\\n')\n",
    "print(x1)\n",
    "print(x2)\n",
    "print(x3)\n",
    "print(x4)"
   ]
  },
  {
   "cell_type": "code",
   "execution_count": null,
   "id": "92a2d076-df34-40de-bcf7-a8b9064d7a52",
   "metadata": {},
   "outputs": [],
   "source": []
  },
  {
   "cell_type": "code",
   "execution_count": 22,
   "id": "06f1035d-0add-4e33-85e3-e455a9be3d13",
   "metadata": {},
   "outputs": [
    {
     "name": "stdout",
     "output_type": "stream",
     "text": [
      "L = 0\n"
     ]
    }
   ],
   "source": [
    "# ACTIVATION FUNCTION TEST: RELU (2)\n",
    "\n",
    "x1 = Value(2, 'x1')\n",
    "x2 = Value(3, 'x2')\n",
    "x3 = Value(4, 'x3')\n",
    "x4 = Value(800, 'x4')\n",
    "f = x1**2 + 17*x2**2 + 25*x3**2 - x4; f.name='f'\n",
    "L = f.relu(); L.name = 'L'\n",
    "\n",
    "print(f'L = {L.value}')"
   ]
  },
  {
   "cell_type": "code",
   "execution_count": 23,
   "id": "254aa8dc-bb25-4316-8330-93b78a753548",
   "metadata": {},
   "outputs": [
    {
     "name": "stdout",
     "output_type": "stream",
     "text": [
      "\"L\" = RELU(f) = 0, grad = 1\n",
      "\n",
      "x1 = 2, grad = 0\n",
      "x2 = 3, grad = 0\n",
      "x3 = 4, grad = 0\n",
      "x4 = 800, grad = 0\n"
     ]
    }
   ],
   "source": [
    "L.backward(verbose=2)"
   ]
  },
  {
   "cell_type": "code",
   "execution_count": 24,
   "id": "c25d785a-1f4c-4daa-bdd1-dab24a65407a",
   "metadata": {},
   "outputs": [
    {
     "data": {
      "text/plain": [
       "\"L\" = RELU(f) = 0, grad = 1"
      ]
     },
     "execution_count": 24,
     "metadata": {},
     "output_type": "execute_result"
    }
   ],
   "source": [
    "gradient_descent(L, 0.01, 1000, verbose=False)  # this does nothing though since all gradients are = 0, L is already at its minumum"
   ]
  },
  {
   "cell_type": "code",
   "execution_count": 25,
   "id": "dea39926-5e83-41fa-b5f7-6c853b5e7e76",
   "metadata": {},
   "outputs": [
    {
     "name": "stdout",
     "output_type": "stream",
     "text": [
      "L_min = 0\n",
      "\n",
      "x1 = 2.0, grad = 0.0\n",
      "x2 = 3.0, grad = 0.0\n",
      "x3 = 4.0, grad = 0.0\n",
      "x4 = 800.0, grad = 0\n"
     ]
    }
   ],
   "source": [
    "print(f'L_min = {L.value}\\n')\n",
    "print(x1)\n",
    "print(x2)\n",
    "print(x3)\n",
    "print(x4)"
   ]
  },
  {
   "cell_type": "code",
   "execution_count": null,
   "id": "c7996a89-e381-45f3-8d5a-3cec28d01061",
   "metadata": {},
   "outputs": [],
   "source": []
  },
  {
   "cell_type": "code",
   "execution_count": 26,
   "id": "e8cba8a6-c25c-4d40-ab67-76b69b9b1290",
   "metadata": {},
   "outputs": [
    {
     "name": "stdout",
     "output_type": "stream",
     "text": [
      "L = 556.0\n"
     ]
    }
   ],
   "source": [
    "# ACTIVATION FUNCTION TEST: Softplus (1)\n",
    "\n",
    "x1 = Value(2, 'x1')\n",
    "x2 = Value(3, 'x2')\n",
    "x3 = Value(4, 'x3')\n",
    "x4 = Value(1, 'x4')\n",
    "f = x1**2 + 17*x2**2 + 25*x3**2 - x4; f.name='f'\n",
    "L = f.softplus(); L.name = 'L'\n",
    "\n",
    "print(f'L = {L.value}')"
   ]
  },
  {
   "cell_type": "code",
   "execution_count": 27,
   "id": "e8bded35-e9fb-4276-810b-a3bf58ccf29c",
   "metadata": {},
   "outputs": [
    {
     "name": "stdout",
     "output_type": "stream",
     "text": [
      "\"L\" = Softplus(f) = 556.0, grad = 1\n",
      "\n",
      "x4 = 1, grad = -1.0\n",
      "x2 = 3, grad = 102.0\n",
      "x1 = 2, grad = 4.0\n",
      "x3 = 4, grad = 200.0\n"
     ]
    }
   ],
   "source": [
    "L.backward(verbose=2)"
   ]
  },
  {
   "cell_type": "code",
   "execution_count": 28,
   "id": "29f2c51e-927f-4fbd-b1dc-c61a9480ef0f",
   "metadata": {},
   "outputs": [
    {
     "data": {
      "text/plain": [
       "\"L\" = Softplus(f) = 0.0098, grad = 1"
      ]
     },
     "execution_count": 28,
     "metadata": {},
     "output_type": "execute_result"
    }
   ],
   "source": [
    "gradient_descent(L, 0.01, 10000, verbose=False)"
   ]
  },
  {
   "cell_type": "code",
   "execution_count": 29,
   "id": "5c5b5f5c-a4ba-4794-90b2-4c294f8f3181",
   "metadata": {},
   "outputs": [
    {
     "name": "stdout",
     "output_type": "stream",
     "text": [
      "L_min = 0.009841417248237961\n",
      "\n",
      "x1 = 0.0014, grad = 2.802e-05\n",
      "x2 = 0.0, grad = 0.0\n",
      "x3 = 0.0, grad = 0.0\n",
      "x4 = 4.6162, grad = -0.00979315\n"
     ]
    }
   ],
   "source": [
    "print(f'L_min = {L.value}\\n')\n",
    "print(x1)\n",
    "print(x2)\n",
    "print(x3)\n",
    "print(x4)"
   ]
  },
  {
   "cell_type": "code",
   "execution_count": null,
   "id": "1ee839f0-ffc3-4623-9e32-f1e61d9909b3",
   "metadata": {},
   "outputs": [],
   "source": []
  },
  {
   "cell_type": "code",
   "execution_count": 42,
   "id": "502de4e2-f1d3-4efd-b36c-03ae9adcb298",
   "metadata": {},
   "outputs": [
    {
     "name": "stdout",
     "output_type": "stream",
     "text": [
      "L = 157.0\n"
     ]
    }
   ],
   "source": [
    "# ACTIVATION FUNCTION TEST: Softplus (2)\n",
    "\n",
    "x1 = Value(2, 'x1')\n",
    "x2 = Value(3, 'x2')\n",
    "x3 = Value(4, 'x3')\n",
    "x4 = Value(400, 'x4')\n",
    "f = x1**2 + 17*x2**2 + 25*x3**2 - x4; f.name='f'\n",
    "L = f.softplus(); L.name = 'L'\n",
    "\n",
    "print(f'L = {L.value}')"
   ]
  },
  {
   "cell_type": "code",
   "execution_count": 43,
   "id": "f84a4617-be63-42ac-a1a9-2d6df1f6eb8a",
   "metadata": {},
   "outputs": [
    {
     "name": "stdout",
     "output_type": "stream",
     "text": [
      "\"L\" = Softplus(f) = 157.0, grad = 1\n",
      "\n",
      "x4 = 400, grad = -1.0\n",
      "x2 = 3, grad = 102.0\n",
      "x1 = 2, grad = 4.0\n",
      "x3 = 4, grad = 200.0\n"
     ]
    }
   ],
   "source": [
    "L.backward(verbose=2)"
   ]
  },
  {
   "cell_type": "code",
   "execution_count": 44,
   "id": "92d008d8-fb04-4b37-8a40-a5f9b30a59de",
   "metadata": {},
   "outputs": [
    {
     "data": {
      "text/plain": [
       "\"L\" = Softplus(f) = 0.0, grad = 1"
      ]
     },
     "execution_count": 44,
     "metadata": {},
     "output_type": "execute_result"
    }
   ],
   "source": [
    "gradient_descent(L, 0.001, 10000, verbose=False)"
   ]
  },
  {
   "cell_type": "code",
   "execution_count": 45,
   "id": "f9af78b7-5b71-4c1d-a9c1-e0abb7f00476",
   "metadata": {},
   "outputs": [
    {
     "name": "stdout",
     "output_type": "stream",
     "text": [
      "L_min = 3.660218484573215e-07\n",
      "\n",
      "x1 = 1.984, grad = 1.45e-06\n",
      "x2 = 2.612, grad = 3.251e-05\n",
      "x3 = 3.2574, grad = 5.961e-05\n",
      "x4 = 400.004, grad = -3.7e-07\n"
     ]
    }
   ],
   "source": [
    "print(f'L_min = {L.value}\\n')\n",
    "print(x1)\n",
    "print(x2)\n",
    "print(x3)\n",
    "print(x4)"
   ]
  },
  {
   "cell_type": "code",
   "execution_count": null,
   "id": "5228e9a4-3b0c-4603-bc45-9e666b38f8b7",
   "metadata": {},
   "outputs": [],
   "source": []
  }
 ],
 "metadata": {
  "kernelspec": {
   "display_name": "Python 3 (ipykernel)",
   "language": "python",
   "name": "python3"
  },
  "language_info": {
   "codemirror_mode": {
    "name": "ipython",
    "version": 3
   },
   "file_extension": ".py",
   "mimetype": "text/x-python",
   "name": "python",
   "nbconvert_exporter": "python",
   "pygments_lexer": "ipython3",
   "version": "3.12.2"
  }
 },
 "nbformat": 4,
 "nbformat_minor": 5
}
