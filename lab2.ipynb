{
 "cells": [
  {
   "cell_type": "code",
   "execution_count": 1,
   "id": "800d5e9a-462e-4ca9-9cc3-d8d933eaf81d",
   "metadata": {},
   "outputs": [],
   "source": [
    "import numpy as np"
   ]
  },
  {
   "cell_type": "code",
   "execution_count": 2,
   "id": "b9fc428f-ea83-4bd5-8bbe-73b54446d08c",
   "metadata": {},
   "outputs": [],
   "source": [
    "def topo_sort_v1(a):\n",
    "    done = []\n",
    "    def visit(val):\n",
    "        if val.children:\n",
    "            for i in val.children:\n",
    "                visit(i)\n",
    "        if val not in done:\n",
    "            done.append(val)\n",
    "        return done[::-1]\n",
    "    return visit(a)"
   ]
  },
  {
   "cell_type": "code",
   "execution_count": 3,
   "id": "28b93b9d-a29e-40aa-a11d-cc6b0b645f32",
   "metadata": {},
   "outputs": [],
   "source": [
    "def topo_sort_v2(a):\n",
    "    done = []\n",
    "    def visit(val):\n",
    "        if val not in done:\n",
    "            if val.children:\n",
    "                for i in val.children:\n",
    "                    visit(i)\n",
    "            done.append(val)\n",
    "        return done[::-1]\n",
    "    return visit(a)"
   ]
  },
  {
   "cell_type": "code",
   "execution_count": 4,
   "id": "374ba612-9d2e-4fb9-9577-d9ba47de3086",
   "metadata": {},
   "outputs": [],
   "source": [
    "class Value:\n",
    "    def __init__(self, value, label='', children=(), op='', name=''):\n",
    "        self.value = value\n",
    "        self.label = label\n",
    "        self.grad = 0.0\n",
    "        self.children = set(children)\n",
    "        self.op = op\n",
    "        self._backward = lambda x=None: None\n",
    "        self._forward = lambda x=None: None\n",
    "        self.name = name\n",
    "        self.isconstant = False\n",
    "        # print(f\"{f'\"{self.name}\" = ' if self.name else f'{self.label} = '}{self.value:.4f}\")\n",
    "\n",
    "    def __repr__(self):\n",
    "        return f\"{f'\"{self.name}\" = ' if self.name else ''}{f'{self.label} = ' if not self.isconstant else ''}{round(self.value, 4)}, grad = {round(self.grad, 4)}\"\n",
    "\n",
    "    \n",
    "    # UNARY OPERATORS\n",
    "    def __pos__(self):\n",
    "        return self\n",
    "\n",
    "    def __neg__(self):\n",
    "        return (-1) * self\n",
    "\n",
    "    \n",
    "    # ADDITION\n",
    "    def __add__(self, other):\n",
    "        if isinstance(other, int) or isinstance(other, float):\n",
    "            other = Value(other, f'{other}', name=f'const {other}')\n",
    "            other.isconstant = True\n",
    "            \n",
    "        res = Value(self.value + other.value, label=f'[{self.label} + {other.label}]', children=(self, other), op='+')\n",
    "        def _backward(do_print=True):\n",
    "            self.grad += res.grad\n",
    "            other.grad += res.grad\n",
    "            if do_print:\n",
    "                print(self)\n",
    "                print(other)\n",
    "            \n",
    "        def _forward():\n",
    "            res.value = self.value + other.value\n",
    "\n",
    "        res._forward = _forward\n",
    "        res._backward = _backward\n",
    "        return res\n",
    "\n",
    "    def __radd__(self, other):\n",
    "        return self + other\n",
    "\n",
    "    \n",
    "    # SUBTRACTION\n",
    "    def __sub__(self, other):\n",
    "        if isinstance(other, int) or isinstance(other, float):\n",
    "            other = Value(other, f'{other}', name=f'const {other}')\n",
    "            other.isconstant = True\n",
    "\n",
    "        res = self + -other\n",
    "        res.label = f'[{self.label} - {other.label}]'\n",
    "        res.op = '-'\n",
    "        return res\n",
    "\n",
    "    def __rsub__(self, other):\n",
    "        other = Value(other, f'{other}', name=f'const {other}')\n",
    "        other.isconstant = True\n",
    "\n",
    "        res = -self + other\n",
    "        res.label = f'[{other.value} - {self.label}]'\n",
    "        return res\n",
    "\n",
    "    \n",
    "    # MULTIPLICATION\n",
    "    def __mul__(self, other):\n",
    "        if isinstance(other, int) or isinstance(other, float):\n",
    "            other = Value(other, f'{other}', name=f'const {other}')\n",
    "            other.isconstant = True\n",
    "            \n",
    "        res = Value(self.value * other.value, label=f'({self.label} * {other.label})', children=(self, other), op='*')\n",
    "        def _backward(do_print=True):\n",
    "            self.grad += other.value * res.grad\n",
    "            other.grad += self.value * res.grad\n",
    "            if do_print:\n",
    "                print(self)\n",
    "                print(other)\n",
    "\n",
    "        def _forward():\n",
    "            res.value = self.value * other.value\n",
    "            \n",
    "        res._forward = _forward\n",
    "        res._backward = _backward\n",
    "        return res\n",
    "\n",
    "    def __rmul__(self, other):\n",
    "        return self * other\n",
    "        \n",
    "\n",
    "    # EXPONENTIAL OPERATOR\n",
    "    def __pow__(self, other):  # for x**y and x**2\n",
    "        if isinstance(other, int) or isinstance(other, float):\n",
    "            other = Value(other, f'{other}', name=f'const {other}')\n",
    "            other.isconstant = True\n",
    "        if not (not other.isconstant and self.value < 0):  # bans expressions like -2**x, but allows 2**x, x**-3, x**3, 2**3 and 2**-3\n",
    "            res = Value(self.value ** other.value, label=f'{self.label} ^ {other.label}', children=(self, other), op='^')\n",
    "            def _backward(do_print=True):\n",
    "                self.grad += self.value ** (other.value - 1) * (other.value) * res.grad\n",
    "                if self.value > 0:\n",
    "                    other.grad += np.log(self.value) * res.value * res.grad\n",
    "                if do_print:\n",
    "                    print(self)\n",
    "                    print(other)\n",
    "    \n",
    "            def _forward():\n",
    "                res.value = self.value ** other.value\n",
    "    \n",
    "            res._forward = _forward\n",
    "            res._backward = _backward\n",
    "            return res\n",
    "        print('why did you do that. you killed the program. you should be ashamed of yourself.')\n",
    "        print(f'{self.label} = {self.value} < 0 and {other.label} is not a constant!!! never do this again.')\n",
    "        print('sentenced to KeyboardInterrupt')\n",
    "        raise KeyboardInterrupt\n",
    "\n",
    "        \n",
    "    def __rpow__(self, other):  # for 2**x with: self = x, other = 2\n",
    "        other = Value(other, f'{other}', name=f'const {other}')\n",
    "        other.isconstant = True\n",
    "        return other**self\n",
    "        \n",
    "    \n",
    "    # DIVISON        \n",
    "    def __truediv__(self, other):\n",
    "        if isinstance(other, int) or isinstance(other, float):\n",
    "            other = Value(other, f'{other}', name=f'const {other}')\n",
    "            other.isconstant = True\n",
    "            \n",
    "        res = self * other**(-1)\n",
    "        res.label = f'({self.label} / {other.label})'\n",
    "        res.op = '/'\n",
    "        return res\n",
    "\n",
    "    def __rtruediv__(self, other):\n",
    "        other = Value(other, f'{other}', name=f'const {other}')\n",
    "        other.isconstant = True\n",
    "\n",
    "        res = self**(-1) * other\n",
    "        res.label = f'({other.label} / {self.label})'\n",
    "        res.op = '/'\n",
    "        return res\n",
    "\n",
    "    \n",
    "    # FORWARD PROPAGATION\n",
    "    def forward(self):\n",
    "        order = topo_sort_v2(self)[::-1]\n",
    "        for i in order:\n",
    "            i._forward()\n",
    "\n",
    "    \n",
    "    # BACKWARD PROPAGATION\n",
    "    def backward(self, do_print=True):\n",
    "        order = topo_sort_v2(self)\n",
    "        for i in order:\n",
    "            i.grad = 0\n",
    "        self.grad=1\n",
    "        if do_print:\n",
    "            print(self)\n",
    "        for i in order:\n",
    "            i._backward(do_print)"
   ]
  },
  {
   "cell_type": "code",
   "execution_count": 5,
   "id": "6ba6b1db-a807-4573-b175-bfc18b7b3f7f",
   "metadata": {},
   "outputs": [],
   "source": [
    "def gradient_descent(rate, iterations, node, do_print=True):\n",
    "    node.backward(do_print)\n",
    "    for i in range(iterations):\n",
    "        order = topo_sort_v2(node)\n",
    "        for n in order:\n",
    "            if not n.children and not n.isconstant:\n",
    "                n.value -= rate*n.grad\n",
    "        if do_print:\n",
    "            print(f'\\ni = {i}')\n",
    "        node.forward()\n",
    "        node.backward(do_print)\n",
    "    return node"
   ]
  },
  {
   "cell_type": "code",
   "execution_count": null,
   "id": "bdd643b8-032d-4156-b094-3bdf26745305",
   "metadata": {},
   "outputs": [],
   "source": []
  },
  {
   "cell_type": "code",
   "execution_count": 6,
   "id": "9e027562-0340-4fd5-9ebf-448366c81fb0",
   "metadata": {},
   "outputs": [
    {
     "name": "stdout",
     "output_type": "stream",
     "text": [
      "\n",
      "3 + x\n",
      "[x + 3] = 7, grad = 0.0\n",
      "\n",
      "x + 3\n",
      "[x + 3] = 7, grad = 0.0\n",
      "\n",
      "x + y\n",
      "[x + y] = 1, grad = 0.0\n",
      "\n",
      "\n",
      "3 - x\n",
      "[3 - x] = -1, grad = 0.0\n",
      "\n",
      "x - 3\n",
      "[x - 3] = 1, grad = 0.0\n",
      "\n",
      "x - y\n",
      "[x - y] = 7, grad = 0.0\n",
      "\n",
      "\n",
      "3 * x\n",
      "(x * 3) = 12, grad = 0.0\n",
      "\n",
      "x * 3\n",
      "(x * 3) = 12, grad = 0.0\n",
      "\n",
      "x * y\n",
      "(x * y) = -12, grad = 0.0\n",
      "\n",
      "\n",
      "3 / x\n",
      "(3 / x) = 0.75, grad = 0.0\n",
      "\n",
      "x / 3\n",
      "(x / 3) = 1.3333, grad = 0.0\n",
      "\n",
      "\n",
      "\n",
      "x / y\n",
      "(x / y) = -1.3333, grad = 1\n",
      "x = 4, grad = -0.3333\n",
      "y = -3, grad = -0.4444\n",
      "\n",
      "y / x\n",
      "(y / x) = -0.75, grad = 1\n",
      "x = 4, grad = 0.1875\n",
      "y = -3, grad = 0.25\n",
      "\n",
      "x ^ y\n",
      "x ^ y = 0.0156, grad = 1\n",
      "x = 4, grad = -0.0117\n",
      "y = -3, grad = 0.0217\n",
      "\n",
      "y ^ x\n",
      "why did you do that. you killed the program. you should be ashamed of yourself.\n",
      "y = -3 < 0 and x is not a constant!!! never do this again.\n",
      "sentenced to KeyboardInterrupt\n",
      "fine, you get to live because this was a test\n",
      "\n",
      "3 ^ x\n",
      "3 ^ x = 81, grad = 1\n",
      "x = 4, grad = 88.9876\n"
     ]
    }
   ],
   "source": [
    "# TEST ALL THE DIFFERENT OPERATIONS AND COMBINATIONS\n",
    "x = Value(4, 'x')\n",
    "y = Value(-3, 'y')\n",
    "print(); print('3 + x'); print(3 + x)\n",
    "print(); print('x + 3'); print(x + 3)\n",
    "print(); print('x + y'); print(x + y)\n",
    "print()\n",
    "print(); print('3 - x'); print(3 - x)\n",
    "print(); print('x - 3'); print(x - 3)\n",
    "print(); print('x - y'); print(x - y)\n",
    "print()\n",
    "print(); print('3 * x'); print(3 * x)\n",
    "print(); print('x * 3'); print(x * 3)\n",
    "print(); print('x * y'); print(x * y)\n",
    "print()\n",
    "print(); print('3 / x'); print(3 / x)\n",
    "print(); print('x / 3'); print(x / 3)\n",
    "\n",
    "print()\n",
    "print()\n",
    "\n",
    "print(); print('x / y'); z = x / y; z.backward(False); print(z); print(f'{x}\\n{y}')\n",
    "print(); print('y / x'); z = y / x; z.backward(False); print(z); print(f'{x}\\n{y}')\n",
    "print(); print('x ^ y'); z = x ** y; z.backward(False); print(z); print(f'{x}\\n{y}')\n",
    "print()\n",
    "try: print('y ^ x'); z = y ** x; z.backward(False); print(z); print(f'{x}\\n{y}') \n",
    "except KeyboardInterrupt: print('fine, you get to live because this was a test')\n",
    "print(); print('3 ^ x'); z = 3 ** x; z.backward(False); print(z); print(x)"
   ]
  },
  {
   "cell_type": "code",
   "execution_count": null,
   "id": "1efc5d55-a76d-4775-b313-b1e4d72ed352",
   "metadata": {},
   "outputs": [],
   "source": []
  },
  {
   "cell_type": "code",
   "execution_count": 7,
   "id": "ec549acb-f4ab-4bc6-8542-443237683aae",
   "metadata": {},
   "outputs": [
    {
     "name": "stdout",
     "output_type": "stream",
     "text": [
      "\"L\" = ([(a * b) + c] * f) = -8, grad = 0.0\n",
      "\"f\" = f = -2, grad = 0.0\n",
      "\"d\" = [(a * b) + c] = 4, grad = 0.0\n",
      "\"e\" = (a * b) = -6, grad = 0.0\n",
      "\"b\" = b = -3, grad = 0.0\n",
      "\"a\" = a = 2, grad = 0.0\n",
      "\"c\" = c = 10, grad = 0.0\n"
     ]
    }
   ],
   "source": [
    "# TRY BACKPROPAGATION ON EXAMPLE FROM VIDEO\n",
    "a = Value(2, 'a', name='a')\n",
    "b = Value(-3, 'b', name='b')\n",
    "e = a * b\n",
    "c = Value(10, 'c', name='c')\n",
    "d = e + c\n",
    "f = Value(-2, 'f', name='f')\n",
    "L = d * f\n",
    "a.name = 'a'\n",
    "d.name = 'd'\n",
    "e.name = 'e'\n",
    "L.name = 'L'\n",
    "\n",
    "for i in topo_sort_v2(L): print(i)  # see all the values (with gradients set to 0)"
   ]
  },
  {
   "cell_type": "code",
   "execution_count": 8,
   "id": "a55b67b8-8e86-489d-9add-6d0518c05159",
   "metadata": {},
   "outputs": [
    {
     "name": "stdout",
     "output_type": "stream",
     "text": [
      "\"d\" = [(a * b) + c] = 4, grad = -2.0\n",
      "\"f\" = f = -2, grad = 4.0\n",
      "\"e\" = (a * b) = -6, grad = -2.0\n",
      "\"c\" = c = 10, grad = -2.0\n",
      "\"a\" = a = 2, grad = 6.0\n",
      "\"b\" = b = -3, grad = -4.0\n"
     ]
    }
   ],
   "source": [
    "L.grad = 1  # manually backpropagate\n",
    "L._backward()\n",
    "f._backward()\n",
    "d._backward()\n",
    "e._backward()"
   ]
  },
  {
   "cell_type": "code",
   "execution_count": 9,
   "id": "f6a2ee69-61f0-4b91-b4ae-c4c71c07de72",
   "metadata": {},
   "outputs": [
    {
     "name": "stdout",
     "output_type": "stream",
     "text": [
      "\"L\" = ([(a * b) + c] * f) = -8, grad = 1\n",
      "\"f\" = f = -2, grad = 4.0\n",
      "\"d\" = [(a * b) + c] = 4, grad = -2.0\n",
      "\"e\" = (a * b) = -6, grad = -2.0\n",
      "\"b\" = b = -3, grad = -4.0\n",
      "\"a\" = a = 2, grad = 6.0\n",
      "\"c\" = c = 10, grad = -2.0\n"
     ]
    }
   ],
   "source": [
    "for i in topo_sort_v1(L): print(i)  # check all values to see if all gradients changed"
   ]
  },
  {
   "cell_type": "code",
   "execution_count": 10,
   "id": "d7bed284-117f-4aa6-9d2d-ffe9e3e067ec",
   "metadata": {
    "scrolled": true
   },
   "outputs": [
    {
     "name": "stdout",
     "output_type": "stream",
     "text": [
      "\"L\" = ([(a * b) + c] * f) = -8, grad = 1\n",
      "\"d\" = [(a * b) + c] = 4, grad = -2\n",
      "\"f\" = f = -2, grad = 4\n",
      "\"e\" = (a * b) = -6, grad = -2\n",
      "\"c\" = c = 10, grad = -2\n",
      "\"a\" = a = 2, grad = 6\n",
      "\"b\" = b = -3, grad = -4\n"
     ]
    }
   ],
   "source": [
    "L.backward()  # automatically backpropagate (and get the same results)"
   ]
  },
  {
   "cell_type": "code",
   "execution_count": 11,
   "id": "8531b7df-b4e5-479b-a90b-5e60d4593339",
   "metadata": {},
   "outputs": [
    {
     "data": {
      "text/plain": [
       "\"L\" = ([(a * b) + c] * f) = 10.0, grad = 1"
      ]
     },
     "execution_count": 11,
     "metadata": {},
     "output_type": "execute_result"
    }
   ],
   "source": [
    "a.value = 5.0  # test forward propagation: set a = 0 and check how that affects L\n",
    "L.forward()\n",
    "L"
   ]
  },
  {
   "cell_type": "code",
   "execution_count": null,
   "id": "24c76d8b-d2a1-431d-9fcd-7bde82ae01fb",
   "metadata": {},
   "outputs": [],
   "source": []
  },
  {
   "cell_type": "code",
   "execution_count": 12,
   "id": "5e9dfeda-7279-42bd-9d32-b9a12c138bf9",
   "metadata": {},
   "outputs": [
    {
     "name": "stdout",
     "output_type": "stream",
     "text": [
      "f = 182.67687899999999\n"
     ]
    }
   ],
   "source": [
    "# GRADIENT DESCENT TEST 1\n",
    "\n",
    "x = Value(5.59, 'x')\n",
    "y = Value(5.59, 'y')\n",
    "z = Value(5.59, 'z')\n",
    "f = 4 + (x * y) ** 2 / z + 4  # make up a function\n",
    "f.name = 'f'\n",
    "print(f'f = {f.value}')\n",
    "\n",
    "# for i in topo_sort_v2(f): print(i)  # check all of the parts it consists of (in needed order)"
   ]
  },
  {
   "cell_type": "code",
   "execution_count": 13,
   "id": "63cfd8cf-cd72-4589-895f-87ae7b998441",
   "metadata": {},
   "outputs": [
    {
     "data": {
      "text/plain": [
       "\"f\" = [[((x * y) ^ 2 / z) + 4] + 4] = 8.0042, grad = 1"
      ]
     },
     "execution_count": 13,
     "metadata": {},
     "output_type": "execute_result"
    }
   ],
   "source": [
    "gradient_descent(0.01, 1000, f, do_print=False)  # and gradient descent"
   ]
  },
  {
   "cell_type": "code",
   "execution_count": 14,
   "id": "e02c7c6c-dc40-4d1c-b565-ec61303c8e72",
   "metadata": {},
   "outputs": [
    {
     "name": "stdout",
     "output_type": "stream",
     "text": [
      "f_min = 8.004189266940877\n",
      "\n",
      "x = 0.4121, grad = 0.0203\n",
      "y = 0.4121, grad = 0.0203\n",
      "z = 6.8857, grad = -0.0006\n"
     ]
    }
   ],
   "source": [
    "print(f'f_min = {f.value}\\n')  # get the local minimum\n",
    "print(x)\n",
    "print(y)\n",
    "print(z)"
   ]
  },
  {
   "cell_type": "code",
   "execution_count": null,
   "id": "f81a465a-a278-4418-9f85-e740d6015902",
   "metadata": {},
   "outputs": [],
   "source": []
  },
  {
   "cell_type": "code",
   "execution_count": 15,
   "id": "91962f5b-a01f-41da-bf2f-68c1fb941349",
   "metadata": {},
   "outputs": [
    {
     "name": "stdout",
     "output_type": "stream",
     "text": [
      "f = 717\n"
     ]
    }
   ],
   "source": [
    "# GRADIENT DESCENT TEST 2\n",
    "\n",
    "x1 = Value(2, label='x1')\n",
    "x2 = Value(3, label='x2')\n",
    "x3 = Value(4, label='x3')\n",
    "f = x1**2 + 17*x2**2 + 35*x3**2\n",
    "f.name='f'\n",
    "print(f'f = {f.value}')"
   ]
  },
  {
   "cell_type": "code",
   "execution_count": 16,
   "id": "88d35c43-0df5-48b0-b2cb-0d3a9eb38b96",
   "metadata": {},
   "outputs": [
    {
     "data": {
      "text/plain": [
       "\"f\" = [[x1 ^ 2 + (x2 ^ 2 * 17)] + (x3 ^ 2 * 35)] = 0.0, grad = 1"
      ]
     },
     "execution_count": 16,
     "metadata": {},
     "output_type": "execute_result"
    }
   ],
   "source": [
    "gradient_descent(0.01, 600, f, False)"
   ]
  },
  {
   "cell_type": "code",
   "execution_count": 17,
   "id": "da1ebc18-66ca-41d1-954e-24bef7ce9767",
   "metadata": {},
   "outputs": [
    {
     "name": "stdout",
     "output_type": "stream",
     "text": [
      "f_min = 1.1839976007154615e-10\n",
      "\n",
      "x1 = 0.0, grad = 0.0\n",
      "x2 = 0.0, grad = 0.0\n",
      "x3 = 0.0, grad = 0.0\n"
     ]
    }
   ],
   "source": [
    "print(f'f_min = {f.value}\\n')\n",
    "print(x1)\n",
    "print(x2)\n",
    "print(x3)"
   ]
  },
  {
   "cell_type": "code",
   "execution_count": null,
   "id": "8260ffc9-b65d-477e-ae49-6b6d5a270b79",
   "metadata": {},
   "outputs": [],
   "source": []
  }
 ],
 "metadata": {
  "kernelspec": {
   "display_name": "Python 3 (ipykernel)",
   "language": "python",
   "name": "python3"
  },
  "language_info": {
   "codemirror_mode": {
    "name": "ipython",
    "version": 3
   },
   "file_extension": ".py",
   "mimetype": "text/x-python",
   "name": "python",
   "nbconvert_exporter": "python",
   "pygments_lexer": "ipython3",
   "version": "3.12.2"
  }
 },
 "nbformat": 4,
 "nbformat_minor": 5
}
